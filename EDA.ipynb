{
 "cells": [
  {
   "cell_type": "code",
   "execution_count": 1,
   "metadata": {},
   "outputs": [],
   "source": [
    "import numpy as np # linear algebra\n",
    "import pandas as pd # data processing, CSV file I/O (e.g. pd.read_csv)\n",
    "import os\n",
    "from glob import glob\n",
    "%matplotlib inline\n",
    "import matplotlib.pyplot as plt\n",
    "import seaborn as sns\n",
    "\n",
    "##Import any other packages you may need here\n",
    "import scipy.stats\n",
    "import tensorflow as tf"
   ]
  },
  {
   "cell_type": "markdown",
   "metadata": {},
   "source": [
    "EDA is open-ended, and it is up to you to decide how to look at different ways to slice and dice your data. A good starting point is to look at the requirements for the FDA documentation in the final part of this project to guide (some) of the analyses you do. \n",
    "\n",
    "This EDA should also help to inform you of how pneumonia looks in the wild. E.g. what other types of diseases it's commonly found with, how often it is found, what ages it affects, etc. \n",
    "\n",
    "Note that this NIH dataset was not specifically acquired for pneumonia. So, while this is a representation of 'pneumonia in the wild,' the prevalence of pneumonia may be different if you were to take only chest x-rays that were acquired in an ER setting with suspicion of pneumonia. "
   ]
  },
  {
   "cell_type": "markdown",
   "metadata": {},
   "source": [
    "Perform the following EDA:\n",
    "* The patient demographic data such as gender, age, patient position,etc. (as it is available)\n",
    "* The x-ray views taken (i.e. view position)\n",
    "* The number of cases including: \n",
    "    * number of pneumonia cases,\n",
    "    * number of non-pneumonia cases\n",
    "* The distribution of other diseases that are comorbid with pneumonia\n",
    "* Number of disease per patient \n",
    "* Pixel-level assessments of the imaging data for healthy & disease states of interest (e.g. histograms of intensity values) and compare distributions across diseases.\n",
    "\n",
    "Note: use full NIH data to perform the first a few EDA items and use `sample_labels.csv` for the pixel-level assassements. "
   ]
  },
  {
   "cell_type": "markdown",
   "metadata": {},
   "source": [
    "Also, **describe your findings and how will you set up the model training based on the findings.**"
   ]
  },
  {
   "cell_type": "code",
   "execution_count": 2,
   "metadata": {
    "scrolled": false
   },
   "outputs": [
    {
     "data": {
      "text/html": [
       "<div>\n",
       "<style scoped>\n",
       "    .dataframe tbody tr th:only-of-type {\n",
       "        vertical-align: middle;\n",
       "    }\n",
       "\n",
       "    .dataframe tbody tr th {\n",
       "        vertical-align: top;\n",
       "    }\n",
       "\n",
       "    .dataframe thead th {\n",
       "        text-align: right;\n",
       "    }\n",
       "</style>\n",
       "<table border=\"1\" class=\"dataframe\">\n",
       "  <thead>\n",
       "    <tr style=\"text-align: right;\">\n",
       "      <th></th>\n",
       "      <th>Image Index</th>\n",
       "      <th>Finding Labels</th>\n",
       "      <th>Follow-up #</th>\n",
       "      <th>Patient ID</th>\n",
       "      <th>Patient Age</th>\n",
       "      <th>Patient Gender</th>\n",
       "      <th>View Position</th>\n",
       "      <th>OriginalImage[Width</th>\n",
       "      <th>Height]</th>\n",
       "      <th>OriginalImagePixelSpacing[x</th>\n",
       "      <th>y]</th>\n",
       "    </tr>\n",
       "  </thead>\n",
       "  <tbody>\n",
       "    <tr>\n",
       "      <th>63008</th>\n",
       "      <td>00015573_001.png</td>\n",
       "      <td>Infiltration</td>\n",
       "      <td>1</td>\n",
       "      <td>15573</td>\n",
       "      <td>22</td>\n",
       "      <td>M</td>\n",
       "      <td>PA</td>\n",
       "      <td>2790</td>\n",
       "      <td>2932</td>\n",
       "      <td>0.143</td>\n",
       "      <td>0.143</td>\n",
       "    </tr>\n",
       "    <tr>\n",
       "      <th>9735</th>\n",
       "      <td>00002524_014.png</td>\n",
       "      <td>No Finding</td>\n",
       "      <td>14</td>\n",
       "      <td>2524</td>\n",
       "      <td>51</td>\n",
       "      <td>M</td>\n",
       "      <td>PA</td>\n",
       "      <td>2048</td>\n",
       "      <td>2500</td>\n",
       "      <td>0.171</td>\n",
       "      <td>0.171</td>\n",
       "    </tr>\n",
       "    <tr>\n",
       "      <th>64475</th>\n",
       "      <td>00015912_000.png</td>\n",
       "      <td>No Finding</td>\n",
       "      <td>0</td>\n",
       "      <td>15912</td>\n",
       "      <td>33</td>\n",
       "      <td>F</td>\n",
       "      <td>PA</td>\n",
       "      <td>2992</td>\n",
       "      <td>2991</td>\n",
       "      <td>0.143</td>\n",
       "      <td>0.143</td>\n",
       "    </tr>\n",
       "    <tr>\n",
       "      <th>72191</th>\n",
       "      <td>00017762_011.png</td>\n",
       "      <td>No Finding</td>\n",
       "      <td>11</td>\n",
       "      <td>17762</td>\n",
       "      <td>14</td>\n",
       "      <td>F</td>\n",
       "      <td>PA</td>\n",
       "      <td>2728</td>\n",
       "      <td>2360</td>\n",
       "      <td>0.143</td>\n",
       "      <td>0.143</td>\n",
       "    </tr>\n",
       "    <tr>\n",
       "      <th>9250</th>\n",
       "      <td>00002412_004.png</td>\n",
       "      <td>Consolidation|Nodule|Pneumothorax</td>\n",
       "      <td>4</td>\n",
       "      <td>2412</td>\n",
       "      <td>64</td>\n",
       "      <td>M</td>\n",
       "      <td>PA</td>\n",
       "      <td>2698</td>\n",
       "      <td>2681</td>\n",
       "      <td>0.143</td>\n",
       "      <td>0.143</td>\n",
       "    </tr>\n",
       "  </tbody>\n",
       "</table>\n",
       "</div>"
      ],
      "text/plain": [
       "            Image Index                     Finding Labels  Follow-up #  \\\n",
       "63008  00015573_001.png                       Infiltration            1   \n",
       "9735   00002524_014.png                         No Finding           14   \n",
       "64475  00015912_000.png                         No Finding            0   \n",
       "72191  00017762_011.png                         No Finding           11   \n",
       "9250   00002412_004.png  Consolidation|Nodule|Pneumothorax            4   \n",
       "\n",
       "       Patient ID  Patient Age Patient Gender View Position  \\\n",
       "63008       15573           22              M            PA   \n",
       "9735         2524           51              M            PA   \n",
       "64475       15912           33              F            PA   \n",
       "72191       17762           14              F            PA   \n",
       "9250         2412           64              M            PA   \n",
       "\n",
       "       OriginalImage[Width  Height]  OriginalImagePixelSpacing[x     y]  \n",
       "63008                 2790     2932                        0.143  0.143  \n",
       "9735                  2048     2500                        0.171  0.171  \n",
       "64475                 2992     2991                        0.143  0.143  \n",
       "72191                 2728     2360                        0.143  0.143  \n",
       "9250                  2698     2681                        0.143  0.143  "
      ]
     },
     "execution_count": 2,
     "metadata": {},
     "output_type": "execute_result"
    }
   ],
   "source": [
    "## Load NIH data\n",
    "df = pd.read_csv('/data/Data_Entry_2017.csv')\n",
    "df = df.drop(\"Unnamed: 11\", axis=1)\n",
    "df.sample(5)"
   ]
  },
  {
   "cell_type": "markdown",
   "metadata": {},
   "source": [
    "## Age"
   ]
  },
  {
   "cell_type": "code",
   "execution_count": 3,
   "metadata": {
    "scrolled": true
   },
   "outputs": [
    {
     "data": {
      "image/png": "[encoded data removed]",
      "text/plain": [
       "<Figure size 432x288 with 1 Axes>"
      ]
     },
     "metadata": {
      "needs_background": "light"
     },
     "output_type": "display_data"
    }
   ],
   "source": [
    "plt.hist(df[\"Patient Age\"])\n",
    "plt.show()"
   ]
  },
  {
   "cell_type": "markdown",
   "metadata": {},
   "source": [
    "Looks like there are bogus ages. Some of our patients are over 400 years old!"
   ]
  },
  {
   "cell_type": "code",
   "execution_count": 4,
   "metadata": {
    "scrolled": true
   },
   "outputs": [
    {
     "data": {
      "text/html": [
       "<div>\n",
       "<style scoped>\n",
       "    .dataframe tbody tr th:only-of-type {\n",
       "        vertical-align: middle;\n",
       "    }\n",
       "\n",
       "    .dataframe tbody tr th {\n",
       "        vertical-align: top;\n",
       "    }\n",
       "\n",
       "    .dataframe thead th {\n",
       "        text-align: right;\n",
       "    }\n",
       "</style>\n",
       "<table border=\"1\" class=\"dataframe\">\n",
       "  <thead>\n",
       "    <tr style=\"text-align: right;\">\n",
       "      <th></th>\n",
       "      <th>Image Index</th>\n",
       "      <th>Finding Labels</th>\n",
       "      <th>Follow-up #</th>\n",
       "      <th>Patient ID</th>\n",
       "      <th>Patient Age</th>\n",
       "      <th>Patient Gender</th>\n",
       "      <th>View Position</th>\n",
       "      <th>OriginalImage[Width</th>\n",
       "      <th>Height]</th>\n",
       "      <th>OriginalImagePixelSpacing[x</th>\n",
       "      <th>y]</th>\n",
       "    </tr>\n",
       "  </thead>\n",
       "  <tbody>\n",
       "    <tr>\n",
       "      <th>20852</th>\n",
       "      <td>00005567_000.png</td>\n",
       "      <td>Effusion|Pneumonia</td>\n",
       "      <td>0</td>\n",
       "      <td>5567</td>\n",
       "      <td>412</td>\n",
       "      <td>M</td>\n",
       "      <td>AP</td>\n",
       "      <td>3056</td>\n",
       "      <td>2544</td>\n",
       "      <td>0.139</td>\n",
       "      <td>0.139</td>\n",
       "    </tr>\n",
       "    <tr>\n",
       "      <th>46965</th>\n",
       "      <td>00011973_002.png</td>\n",
       "      <td>Edema</td>\n",
       "      <td>2</td>\n",
       "      <td>11973</td>\n",
       "      <td>414</td>\n",
       "      <td>M</td>\n",
       "      <td>AP</td>\n",
       "      <td>3056</td>\n",
       "      <td>2544</td>\n",
       "      <td>0.139</td>\n",
       "      <td>0.139</td>\n",
       "    </tr>\n",
       "    <tr>\n",
       "      <th>84810</th>\n",
       "      <td>00020900_002.png</td>\n",
       "      <td>No Finding</td>\n",
       "      <td>2</td>\n",
       "      <td>20900</td>\n",
       "      <td>411</td>\n",
       "      <td>M</td>\n",
       "      <td>AP</td>\n",
       "      <td>3056</td>\n",
       "      <td>2544</td>\n",
       "      <td>0.139</td>\n",
       "      <td>0.139</td>\n",
       "    </tr>\n",
       "    <tr>\n",
       "      <th>85404</th>\n",
       "      <td>00021047_002.png</td>\n",
       "      <td>Mass|Pleural_Thickening</td>\n",
       "      <td>2</td>\n",
       "      <td>21047</td>\n",
       "      <td>412</td>\n",
       "      <td>M</td>\n",
       "      <td>AP</td>\n",
       "      <td>3056</td>\n",
       "      <td>2544</td>\n",
       "      <td>0.139</td>\n",
       "      <td>0.139</td>\n",
       "    </tr>\n",
       "    <tr>\n",
       "      <th>86264</th>\n",
       "      <td>00021275_003.png</td>\n",
       "      <td>No Finding</td>\n",
       "      <td>3</td>\n",
       "      <td>21275</td>\n",
       "      <td>413</td>\n",
       "      <td>F</td>\n",
       "      <td>AP</td>\n",
       "      <td>3056</td>\n",
       "      <td>2544</td>\n",
       "      <td>0.139</td>\n",
       "      <td>0.139</td>\n",
       "    </tr>\n",
       "    <tr>\n",
       "      <th>91369</th>\n",
       "      <td>00022811_000.png</td>\n",
       "      <td>No Finding</td>\n",
       "      <td>0</td>\n",
       "      <td>22811</td>\n",
       "      <td>412</td>\n",
       "      <td>M</td>\n",
       "      <td>PA</td>\n",
       "      <td>3056</td>\n",
       "      <td>2544</td>\n",
       "      <td>0.139</td>\n",
       "      <td>0.139</td>\n",
       "    </tr>\n",
       "  </tbody>\n",
       "</table>\n",
       "</div>"
      ],
      "text/plain": [
       "            Image Index           Finding Labels  Follow-up #  Patient ID  \\\n",
       "20852  00005567_000.png       Effusion|Pneumonia            0        5567   \n",
       "46965  00011973_002.png                    Edema            2       11973   \n",
       "84810  00020900_002.png               No Finding            2       20900   \n",
       "85404  00021047_002.png  Mass|Pleural_Thickening            2       21047   \n",
       "86264  00021275_003.png               No Finding            3       21275   \n",
       "91369  00022811_000.png               No Finding            0       22811   \n",
       "\n",
       "       Patient Age Patient Gender View Position  OriginalImage[Width  Height]  \\\n",
       "20852          412              M            AP                 3056     2544   \n",
       "46965          414              M            AP                 3056     2544   \n",
       "84810          411              M            AP                 3056     2544   \n",
       "85404          412              M            AP                 3056     2544   \n",
       "86264          413              F            AP                 3056     2544   \n",
       "91369          412              M            PA                 3056     2544   \n",
       "\n",
       "       OriginalImagePixelSpacing[x     y]  \n",
       "20852                        0.139  0.139  \n",
       "46965                        0.139  0.139  \n",
       "84810                        0.139  0.139  \n",
       "85404                        0.139  0.139  \n",
       "86264                        0.139  0.139  \n",
       "91369                        0.139  0.139  "
      ]
     },
     "execution_count": 4,
     "metadata": {},
     "output_type": "execute_result"
    }
   ],
   "source": [
    "bogus_ages_mask = df[\"Patient Age\"]>400\n",
    "df[bogus_ages_mask]"
   ]
  },
  {
   "cell_type": "markdown",
   "metadata": {},
   "source": [
    "Let's get rid of those..."
   ]
  },
  {
   "cell_type": "code",
   "execution_count": 5,
   "metadata": {},
   "outputs": [],
   "source": [
    "df.drop(index = df[bogus_ages_mask].index, inplace=True)"
   ]
  },
  {
   "cell_type": "code",
   "execution_count": 6,
   "metadata": {},
   "outputs": [
    {
     "data": {
      "image/png": "[encoded data removed]",
      "text/plain": [
       "<Figure size 432x288 with 1 Axes>"
      ]
     },
     "metadata": {
      "needs_background": "light"
     },
     "output_type": "display_data"
    }
   ],
   "source": [
    "plt.hist(df[\"Patient Age\"], range=(0,100), bins=10)\n",
    "plt.show()"
   ]
  },
  {
   "cell_type": "markdown",
   "metadata": {},
   "source": [
    "## Gender"
   ]
  },
  {
   "cell_type": "code",
   "execution_count": 7,
   "metadata": {},
   "outputs": [
    {
     "data": {
      "image/png": "[encoded data removed]",
      "text/plain": [
       "<Figure size 432x288 with 1 Axes>"
      ]
     },
     "metadata": {
      "needs_background": "light"
     },
     "output_type": "display_data"
    }
   ],
   "source": [
    "df[\"Patient Gender\"].hist(grid=False)\n",
    "plt.show()"
   ]
  },
  {
   "cell_type": "markdown",
   "metadata": {},
   "source": [
    "Hmm there are significantly more males here:"
   ]
  },
  {
   "cell_type": "code",
   "execution_count": 8,
   "metadata": {},
   "outputs": [
    {
     "name": "stdout",
     "output_type": "stream",
     "text": [
      "Chance of getting at least this amount of gender gap if genders were equally likely: 0.0\n"
     ]
    }
   ],
   "source": [
    "num_females = sum(df[\"Patient Gender\"]==\"F\")\n",
    "print(\"Chance of getting at least this amount of gender gap if genders were equally likely:\",\n",
    "      scipy.stats.binom.cdf(num_females, n=len(df), p=0.5))"
   ]
  },
  {
   "cell_type": "markdown",
   "metadata": {},
   "source": [
    "Interesting, but there's still enough of each gender to not limit the applicability of a learned model, I think."
   ]
  },
  {
   "cell_type": "markdown",
   "metadata": {},
   "source": [
    "## X-ray Orientation"
   ]
  },
  {
   "cell_type": "code",
   "execution_count": 9,
   "metadata": {
    "scrolled": true
   },
   "outputs": [
    {
     "data": {
      "image/png": "[encoded data removed]",
      "text/plain": [
       "<Figure size 432x288 with 1 Axes>"
      ]
     },
     "metadata": {
      "needs_background": "light"
     },
     "output_type": "display_data"
    }
   ],
   "source": [
    "df[\"View Position\"].hist(grid=False)\n",
    "plt.show()"
   ]
  },
  {
   "cell_type": "markdown",
   "metadata": {},
   "source": [
    "There's a good mix of both posterior-to-anterior and anterior-to-posterior X-ray orientations. There are more PA, which is to be expected since that is the preferred orientation. AP is done when a patient is bed-ridden and lying on their back."
   ]
  },
  {
   "cell_type": "markdown",
   "metadata": {},
   "source": [
    "## Convert Finding Labels to Vectors"
   ]
  },
  {
   "cell_type": "code",
   "execution_count": 10,
   "metadata": {},
   "outputs": [
    {
     "name": "stdout",
     "output_type": "stream",
     "text": [
      "Finding labels that occur in the data set:\n",
      "\n",
      "\tNodule\n",
      "\tPneumothorax\n",
      "\tMass\n",
      "\tCardiomegaly\n",
      "\tAtelectasis\n",
      "\tEmphysema\n",
      "\tFibrosis\n",
      "\tPleural_Thickening\n",
      "\tConsolidation\n",
      "\tNo Finding\n",
      "\tHernia\n",
      "\tEdema\n",
      "\tPneumonia\n",
      "\tInfiltration\n",
      "\tEffusion\n"
     ]
    }
   ],
   "source": [
    "finding_names = list(set(l for findings in df[\"Finding Labels\"] for l in findings.split('|')))\n",
    "print(\"Finding labels that occur in the data set:\\n\\n\\t\"+'\\n\\t'.join(finding_names))"
   ]
  },
  {
   "cell_type": "code",
   "execution_count": 11,
   "metadata": {},
   "outputs": [
    {
     "data": {
      "text/html": [
       "<div>\n",
       "<style scoped>\n",
       "    .dataframe tbody tr th:only-of-type {\n",
       "        vertical-align: middle;\n",
       "    }\n",
       "\n",
       "    .dataframe tbody tr th {\n",
       "        vertical-align: top;\n",
       "    }\n",
       "\n",
       "    .dataframe thead th {\n",
       "        text-align: right;\n",
       "    }\n",
       "</style>\n",
       "<table border=\"1\" class=\"dataframe\">\n",
       "  <thead>\n",
       "    <tr style=\"text-align: right;\">\n",
       "      <th></th>\n",
       "      <th>Image Index</th>\n",
       "      <th>Finding Labels</th>\n",
       "      <th>Follow-up #</th>\n",
       "      <th>Patient ID</th>\n",
       "      <th>Patient Age</th>\n",
       "      <th>Patient Gender</th>\n",
       "      <th>View Position</th>\n",
       "      <th>OriginalImage[Width</th>\n",
       "      <th>Height]</th>\n",
       "      <th>OriginalImagePixelSpacing[x</th>\n",
       "      <th>...</th>\n",
       "      <th>Emphysema</th>\n",
       "      <th>Fibrosis</th>\n",
       "      <th>Pleural_Thickening</th>\n",
       "      <th>Consolidation</th>\n",
       "      <th>No Finding</th>\n",
       "      <th>Hernia</th>\n",
       "      <th>Edema</th>\n",
       "      <th>Pneumonia</th>\n",
       "      <th>Infiltration</th>\n",
       "      <th>Effusion</th>\n",
       "    </tr>\n",
       "  </thead>\n",
       "  <tbody>\n",
       "    <tr>\n",
       "      <th>108097</th>\n",
       "      <td>00029259_002.png</td>\n",
       "      <td>Infiltration</td>\n",
       "      <td>2</td>\n",
       "      <td>29259</td>\n",
       "      <td>34</td>\n",
       "      <td>F</td>\n",
       "      <td>AP</td>\n",
       "      <td>3056</td>\n",
       "      <td>2544</td>\n",
       "      <td>0.139</td>\n",
       "      <td>...</td>\n",
       "      <td>0</td>\n",
       "      <td>0</td>\n",
       "      <td>0</td>\n",
       "      <td>0</td>\n",
       "      <td>0</td>\n",
       "      <td>0</td>\n",
       "      <td>0</td>\n",
       "      <td>0</td>\n",
       "      <td>1</td>\n",
       "      <td>0</td>\n",
       "    </tr>\n",
       "    <tr>\n",
       "      <th>96431</th>\n",
       "      <td>00025382_005.png</td>\n",
       "      <td>Infiltration</td>\n",
       "      <td>5</td>\n",
       "      <td>25382</td>\n",
       "      <td>58</td>\n",
       "      <td>F</td>\n",
       "      <td>AP</td>\n",
       "      <td>3056</td>\n",
       "      <td>2544</td>\n",
       "      <td>0.139</td>\n",
       "      <td>...</td>\n",
       "      <td>0</td>\n",
       "      <td>0</td>\n",
       "      <td>0</td>\n",
       "      <td>0</td>\n",
       "      <td>0</td>\n",
       "      <td>0</td>\n",
       "      <td>0</td>\n",
       "      <td>0</td>\n",
       "      <td>1</td>\n",
       "      <td>0</td>\n",
       "    </tr>\n",
       "    <tr>\n",
       "      <th>69360</th>\n",
       "      <td>00017116_007.png</td>\n",
       "      <td>No Finding</td>\n",
       "      <td>7</td>\n",
       "      <td>17116</td>\n",
       "      <td>44</td>\n",
       "      <td>F</td>\n",
       "      <td>AP</td>\n",
       "      <td>2500</td>\n",
       "      <td>2048</td>\n",
       "      <td>0.168</td>\n",
       "      <td>...</td>\n",
       "      <td>0</td>\n",
       "      <td>0</td>\n",
       "      <td>0</td>\n",
       "      <td>0</td>\n",
       "      <td>1</td>\n",
       "      <td>0</td>\n",
       "      <td>0</td>\n",
       "      <td>0</td>\n",
       "      <td>0</td>\n",
       "      <td>0</td>\n",
       "    </tr>\n",
       "    <tr>\n",
       "      <th>81130</th>\n",
       "      <td>00019924_022.png</td>\n",
       "      <td>No Finding</td>\n",
       "      <td>22</td>\n",
       "      <td>19924</td>\n",
       "      <td>56</td>\n",
       "      <td>F</td>\n",
       "      <td>AP</td>\n",
       "      <td>3056</td>\n",
       "      <td>2544</td>\n",
       "      <td>0.139</td>\n",
       "      <td>...</td>\n",
       "      <td>0</td>\n",
       "      <td>0</td>\n",
       "      <td>0</td>\n",
       "      <td>0</td>\n",
       "      <td>1</td>\n",
       "      <td>0</td>\n",
       "      <td>0</td>\n",
       "      <td>0</td>\n",
       "      <td>0</td>\n",
       "      <td>0</td>\n",
       "    </tr>\n",
       "    <tr>\n",
       "      <th>15321</th>\n",
       "      <td>00004006_042.png</td>\n",
       "      <td>No Finding</td>\n",
       "      <td>42</td>\n",
       "      <td>4006</td>\n",
       "      <td>34</td>\n",
       "      <td>F</td>\n",
       "      <td>AP</td>\n",
       "      <td>2500</td>\n",
       "      <td>2048</td>\n",
       "      <td>0.168</td>\n",
       "      <td>...</td>\n",
       "      <td>0</td>\n",
       "      <td>0</td>\n",
       "      <td>0</td>\n",
       "      <td>0</td>\n",
       "      <td>1</td>\n",
       "      <td>0</td>\n",
       "      <td>0</td>\n",
       "      <td>0</td>\n",
       "      <td>0</td>\n",
       "      <td>0</td>\n",
       "    </tr>\n",
       "    <tr>\n",
       "      <th>92050</th>\n",
       "      <td>00022977_001.png</td>\n",
       "      <td>No Finding</td>\n",
       "      <td>1</td>\n",
       "      <td>22977</td>\n",
       "      <td>43</td>\n",
       "      <td>M</td>\n",
       "      <td>AP</td>\n",
       "      <td>3056</td>\n",
       "      <td>2544</td>\n",
       "      <td>0.139</td>\n",
       "      <td>...</td>\n",
       "      <td>0</td>\n",
       "      <td>0</td>\n",
       "      <td>0</td>\n",
       "      <td>0</td>\n",
       "      <td>1</td>\n",
       "      <td>0</td>\n",
       "      <td>0</td>\n",
       "      <td>0</td>\n",
       "      <td>0</td>\n",
       "      <td>0</td>\n",
       "    </tr>\n",
       "    <tr>\n",
       "      <th>74131</th>\n",
       "      <td>00018232_001.png</td>\n",
       "      <td>No Finding</td>\n",
       "      <td>1</td>\n",
       "      <td>18232</td>\n",
       "      <td>43</td>\n",
       "      <td>F</td>\n",
       "      <td>PA</td>\n",
       "      <td>2992</td>\n",
       "      <td>2991</td>\n",
       "      <td>0.143</td>\n",
       "      <td>...</td>\n",
       "      <td>0</td>\n",
       "      <td>0</td>\n",
       "      <td>0</td>\n",
       "      <td>0</td>\n",
       "      <td>1</td>\n",
       "      <td>0</td>\n",
       "      <td>0</td>\n",
       "      <td>0</td>\n",
       "      <td>0</td>\n",
       "      <td>0</td>\n",
       "    </tr>\n",
       "    <tr>\n",
       "      <th>110643</th>\n",
       "      <td>00030152_003.png</td>\n",
       "      <td>Infiltration</td>\n",
       "      <td>3</td>\n",
       "      <td>30152</td>\n",
       "      <td>16</td>\n",
       "      <td>F</td>\n",
       "      <td>AP</td>\n",
       "      <td>3056</td>\n",
       "      <td>2544</td>\n",
       "      <td>0.139</td>\n",
       "      <td>...</td>\n",
       "      <td>0</td>\n",
       "      <td>0</td>\n",
       "      <td>0</td>\n",
       "      <td>0</td>\n",
       "      <td>0</td>\n",
       "      <td>0</td>\n",
       "      <td>0</td>\n",
       "      <td>0</td>\n",
       "      <td>1</td>\n",
       "      <td>0</td>\n",
       "    </tr>\n",
       "    <tr>\n",
       "      <th>35088</th>\n",
       "      <td>00009256_005.png</td>\n",
       "      <td>Atelectasis</td>\n",
       "      <td>5</td>\n",
       "      <td>9256</td>\n",
       "      <td>55</td>\n",
       "      <td>F</td>\n",
       "      <td>AP</td>\n",
       "      <td>2500</td>\n",
       "      <td>2048</td>\n",
       "      <td>0.168</td>\n",
       "      <td>...</td>\n",
       "      <td>0</td>\n",
       "      <td>0</td>\n",
       "      <td>0</td>\n",
       "      <td>0</td>\n",
       "      <td>0</td>\n",
       "      <td>0</td>\n",
       "      <td>0</td>\n",
       "      <td>0</td>\n",
       "      <td>0</td>\n",
       "      <td>0</td>\n",
       "    </tr>\n",
       "    <tr>\n",
       "      <th>56503</th>\n",
       "      <td>00014056_000.png</td>\n",
       "      <td>No Finding</td>\n",
       "      <td>0</td>\n",
       "      <td>14056</td>\n",
       "      <td>54</td>\n",
       "      <td>M</td>\n",
       "      <td>AP</td>\n",
       "      <td>2500</td>\n",
       "      <td>2048</td>\n",
       "      <td>0.168</td>\n",
       "      <td>...</td>\n",
       "      <td>0</td>\n",
       "      <td>0</td>\n",
       "      <td>0</td>\n",
       "      <td>0</td>\n",
       "      <td>1</td>\n",
       "      <td>0</td>\n",
       "      <td>0</td>\n",
       "      <td>0</td>\n",
       "      <td>0</td>\n",
       "      <td>0</td>\n",
       "    </tr>\n",
       "  </tbody>\n",
       "</table>\n",
       "<p>10 rows × 26 columns</p>\n",
       "</div>"
      ],
      "text/plain": [
       "             Image Index Finding Labels  Follow-up #  Patient ID  Patient Age  \\\n",
       "108097  00029259_002.png   Infiltration            2       29259           34   \n",
       "96431   00025382_005.png   Infiltration            5       25382           58   \n",
       "69360   00017116_007.png     No Finding            7       17116           44   \n",
       "81130   00019924_022.png     No Finding           22       19924           56   \n",
       "15321   00004006_042.png     No Finding           42        4006           34   \n",
       "92050   00022977_001.png     No Finding            1       22977           43   \n",
       "74131   00018232_001.png     No Finding            1       18232           43   \n",
       "110643  00030152_003.png   Infiltration            3       30152           16   \n",
       "35088   00009256_005.png    Atelectasis            5        9256           55   \n",
       "56503   00014056_000.png     No Finding            0       14056           54   \n",
       "\n",
       "       Patient Gender View Position  OriginalImage[Width  Height]  \\\n",
       "108097              F            AP                 3056     2544   \n",
       "96431               F            AP                 3056     2544   \n",
       "69360               F            AP                 2500     2048   \n",
       "81130               F            AP                 3056     2544   \n",
       "15321               F            AP                 2500     2048   \n",
       "92050               M            AP                 3056     2544   \n",
       "74131               F            PA                 2992     2991   \n",
       "110643              F            AP                 3056     2544   \n",
       "35088               F            AP                 2500     2048   \n",
       "56503               M            AP                 2500     2048   \n",
       "\n",
       "        OriginalImagePixelSpacing[x  ...  Emphysema  Fibrosis  \\\n",
       "108097                        0.139  ...          0         0   \n",
       "96431                         0.139  ...          0         0   \n",
       "69360                         0.168  ...          0         0   \n",
       "81130                         0.139  ...          0         0   \n",
       "15321                         0.168  ...          0         0   \n",
       "92050                         0.139  ...          0         0   \n",
       "74131                         0.143  ...          0         0   \n",
       "110643                        0.139  ...          0         0   \n",
       "35088                         0.168  ...          0         0   \n",
       "56503                         0.168  ...          0         0   \n",
       "\n",
       "        Pleural_Thickening  Consolidation  No Finding  Hernia  Edema  \\\n",
       "108097                   0              0           0       0      0   \n",
       "96431                    0              0           0       0      0   \n",
       "69360                    0              0           1       0      0   \n",
       "81130                    0              0           1       0      0   \n",
       "15321                    0              0           1       0      0   \n",
       "92050                    0              0           1       0      0   \n",
       "74131                    0              0           1       0      0   \n",
       "110643                   0              0           0       0      0   \n",
       "35088                    0              0           0       0      0   \n",
       "56503                    0              0           1       0      0   \n",
       "\n",
       "        Pneumonia  Infiltration  Effusion  \n",
       "108097          0             1         0  \n",
       "96431           0             1         0  \n",
       "69360           0             0         0  \n",
       "81130           0             0         0  \n",
       "15321           0             0         0  \n",
       "92050           0             0         0  \n",
       "74131           0             0         0  \n",
       "110643          0             1         0  \n",
       "35088           0             0         0  \n",
       "56503           0             0         0  \n",
       "\n",
       "[10 rows x 26 columns]"
      ]
     },
     "execution_count": 11,
     "metadata": {},
     "output_type": "execute_result"
    }
   ],
   "source": [
    "for finding_name in finding_names:\n",
    "    df[finding_name] = df[\"Finding Labels\"].apply(lambda x : int(finding_name in x.split('|')))\n",
    "\n",
    "df.sample(10)"
   ]
  },
  {
   "cell_type": "markdown",
   "metadata": {},
   "source": [
    "## Disease Finding Stats"
   ]
  },
  {
   "cell_type": "code",
   "execution_count": 12,
   "metadata": {},
   "outputs": [
    {
     "name": "stdout",
     "output_type": "stream",
     "text": [
      "Pateints with no finding: 60358/112114 = 0.5383627379274667\n",
      "Pateints with pneumonia: 1430/112114 = 0.012754874502738284\n"
     ]
    }
   ],
   "source": [
    "total = len(df)\n",
    "print(\"Pateints with no finding: {}/{} = {}\".format(sum(df[\"No Finding\"]),total,sum(df[\"No Finding\"])/total))\n",
    "print(\"Pateints with pneumonia: {}/{} = {}\".format(sum(df[\"Pneumonia\"]),total,sum(df[\"Pneumonia\"])/total))"
   ]
  },
  {
   "cell_type": "markdown",
   "metadata": {},
   "source": [
    "Among the patients with penumonia, the AP orientation actually becomes more common:"
   ]
  },
  {
   "cell_type": "code",
   "execution_count": 13,
   "metadata": {},
   "outputs": [
    {
     "data": {
      "image/png": "[encoded data removed]",
      "text/plain": [
       "<Figure size 432x288 with 1 Axes>"
      ]
     },
     "metadata": {
      "needs_background": "light"
     },
     "output_type": "display_data"
    }
   ],
   "source": [
    "df[df['Pneumonia']==1][\"View Position\"].hist(grid=False)\n",
    "plt.show()"
   ]
  },
  {
   "cell_type": "markdown",
   "metadata": {},
   "source": [
    "I guess patients who are suspected to have pneumonia tend more to be bid-ridden?\n",
    "\n",
    "Let's now look at amount of each finding, with and without pneumonia:"
   ]
  },
  {
   "cell_type": "code",
   "execution_count": 14,
   "metadata": {},
   "outputs": [
    {
     "data": {
      "image/png": "[encoded data removed]",
      "text/plain": [
       "<Figure size 432x288 with 1 Axes>"
      ]
     },
     "metadata": {
      "needs_background": "light"
     },
     "output_type": "display_data"
    },
    {
     "data": {
      "image/png": "[encoded data removed]",
      "text/plain": [
       "<Figure size 432x288 with 1 Axes>"
      ]
     },
     "metadata": {
      "needs_background": "light"
     },
     "output_type": "display_data"
    }
   ],
   "source": [
    "finding_counts_all = {fn:sum(df[fn]) for fn in finding_names}\n",
    "finding_counts_pneumonia = {fn:sum(df[df[\"Pneumonia\"]==1][fn]) for fn in finding_names}\n",
    "finding_names.sort(key = lambda fn : finding_counts_all[fn])\n",
    "plt.bar(x=range(0,len(finding_counts_all)),height=[finding_counts_all[fn] for fn in finding_names],tick_label=finding_names)\n",
    "plt.xticks(rotation=\"vertical\")\n",
    "plt.title(\"Case counts in all data\")\n",
    "plt.show()\n",
    "finding_names.sort(key = lambda fn : finding_counts_pneumonia[fn])\n",
    "plt.bar(x=range(0,len(finding_counts_pneumonia)),height=[finding_counts_pneumonia[fn] for fn in finding_names],tick_label=finding_names)\n",
    "plt.xticks(rotation=\"vertical\")\n",
    "plt.title(\"Co-occurence with pneumonia\")\n",
    "plt.show()"
   ]
  },
  {
   "cell_type": "markdown",
   "metadata": {},
   "source": [
    "Correlation coefficients of other findings with pneumonia:"
   ]
  },
  {
   "cell_type": "code",
   "execution_count": 15,
   "metadata": {},
   "outputs": [
    {
     "data": {
      "text/plain": [
       "Pneumonia             1.000000\n",
       "Edema                 0.174111\n",
       "Infiltration          0.073080\n",
       "Atelectasis           0.029946\n",
       "Consolidation         0.025259\n",
       "Effusion              0.024116\n",
       "Cardiomegaly          0.002861\n",
       "Pleural_Thickening    0.002247\n",
       "Hernia                0.000185\n",
       "Mass                 -0.000983\n",
       "Nodule               -0.003702\n",
       "Emphysema            -0.004879\n",
       "Fibrosis             -0.006861\n",
       "Pneumothorax         -0.009971\n",
       "No Finding           -0.122748\n",
       "Name: Pneumonia, dtype: float64"
      ]
     },
     "execution_count": 15,
     "metadata": {},
     "output_type": "execute_result"
    }
   ],
   "source": [
    "df[finding_names].corr()[\"Pneumonia\"].sort_values(ascending=False)"
   ]
  },
  {
   "cell_type": "markdown",
   "metadata": {},
   "source": [
    "The correlation coefficients and the co-occurence counts seem to agree in telling us that pneumonia labels tend to occur alongside edema, infiltration, atelectasis, consolidation, and effusion.\n",
    "\n",
    "The most correlated disease label to pneumonia is edema.\n",
    "\n",
    "The disease label that co-occurs with pneomonia the most is infiltration."
   ]
  },
  {
   "cell_type": "code",
   "execution_count": 16,
   "metadata": {},
   "outputs": [],
   "source": [
    "finding_names_diseases = [fn for fn in finding_names if fn!=\"No Finding\"]\n",
    "df[\"number of diseases\"] = df[finding_names_diseases].sum(axis=1)"
   ]
  },
  {
   "cell_type": "code",
   "execution_count": 17,
   "metadata": {},
   "outputs": [
    {
     "data": {
      "image/png": "[encoded data removed]",
      "text/plain": [
       "<Figure size 432x288 with 1 Axes>"
      ]
     },
     "metadata": {
      "needs_background": "light"
     },
     "output_type": "display_data"
    }
   ],
   "source": [
    "df[\"number of diseases\"].hist(grid=False, range=(0,5), bins=6)\n",
    "plt.title(\"Number of disease labels on a patient - histogram\")\n",
    "plt.show()"
   ]
  },
  {
   "cell_type": "markdown",
   "metadata": {},
   "source": [
    "## Looking at individual images\n",
    "\n",
    "Run the following cell many times to see various images and intensity distributions.\n",
    "\n",
    "I chose to look at three different pixel intensity stats: the mode in the foreground, the sum of pixel values in the foreground, and the area of the foreground. Even together they don't look too promising for the purpose of disease label classification."
   ]
  },
  {
   "cell_type": "code",
   "execution_count": 18,
   "metadata": {
    "scrolled": false
   },
   "outputs": [
    {
     "name": "stdout",
     "output_type": "stream",
     "text": [
      "No Finding\n"
     ]
    },
    {
     "data": {
      "image/png": "[encoded data removed]",
      "text/plain": [
       "<Figure size 432x288 with 1 Axes>"
      ]
     },
     "metadata": {
      "needs_background": "light"
     },
     "output_type": "display_data"
    },
    {
     "data": {
      "image/png": "[encoded data removed]",
      "text/plain": [
       "<Figure size 432x288 with 1 Axes>"
      ]
     },
     "metadata": {
      "needs_background": "light"
     },
     "output_type": "display_data"
    },
    {
     "data": {
      "image/png": "[encoded data removed]",
      "text/plain": [
       "<Figure size 432x288 with 1 Axes>"
      ]
     },
     "metadata": {
      "needs_background": "light"
     },
     "output_type": "display_data"
    },
    {
     "data": {
      "image/png": "[encoded data removed]",
      "text/plain": [
       "<Figure size 432x288 with 1 Axes>"
      ]
     },
     "metadata": {
      "needs_background": "light"
     },
     "output_type": "display_data"
    },
    {
     "name": "stdout",
     "output_type": "stream",
     "text": [
      "Foreground pixel values mode: 129\n",
      "Sum of pixel values in the foreground: 6706129\n",
      "Area of foreground: 47138\n"
     ]
    }
   ],
   "source": [
    "# Choose a random row, load the image, and show it\n",
    "row = df.sample(1).iloc[0]\n",
    "paths = glob(\"/data/images_*/images/\" + row[\"Image Index\"])\n",
    "assert(len(paths)==1)\n",
    "path = paths[0]\n",
    "img = tf.keras.preprocessing.image.load_img(path, color_mode=\"grayscale\")\n",
    "img_small = img.copy()\n",
    "img_small.thumbnail((256,256))\n",
    "print(row[\"Finding Labels\"])\n",
    "plt.imshow(img_small)\n",
    "plt.axis('off')\n",
    "plt.show()\n",
    "\n",
    "# get the pixel values\n",
    "pixel_vals = np.array(list(img_small.getdata())) # flattened form\n",
    "pixel_vals_2d = pixel_vals.reshape(img_small.width,img_small.height)\n",
    "\n",
    "# function to apply otsu's method\n",
    "def otsu_threshold(pixel_vals):\n",
    "    val_counts = np.bincount(pixel_vals, minlength=256) # e.g. val_counts[145] is the number of pixels valued at 145\n",
    "    threshold_variance_pairs = []\n",
    "    for threshold in range(0,255):\n",
    "        below = pixel_vals[pixel_vals <= threshold]\n",
    "        above = pixel_vals[pixel_vals >  threshold]\n",
    "        if below.size==0 or above.size==0:\n",
    "            continue\n",
    "        w1 = val_counts[:(threshold+1)].sum()\n",
    "        w2 = val_counts[(threshold+1):].sum()\n",
    "        weighted_sum_of_var = w1*below.var() + w2*above.var()\n",
    "        if np.isnan(weighted_sum_of_var):\n",
    "            continue\n",
    "        threshold_variance_pairs.append((threshold,weighted_sum_of_var))\n",
    "    return min(threshold_variance_pairs, key=lambda x:x[1])[0]\n",
    "\n",
    "# show intensity histogram and otsu threshold\n",
    "threshold = otsu_threshold(pixel_vals)\n",
    "plt.hist(pixel_vals, range=(0,255),bins=256)\n",
    "plt.plot([threshold, threshold], [0,1000])\n",
    "plt.title(\"Pixel intensity distribution (all pixels, raw values)\")\n",
    "plt.show()\n",
    "\n",
    "# show the \"foreground\" chosen by otsu's method\n",
    "plt.imshow(pixel_vals_2d >= threshold)\n",
    "plt.axis('off')\n",
    "plt.show()\n",
    "\n",
    "# show intensity histogram for only \"foreground\" pixels\n",
    "foreground_pixel_vals = pixel_vals[pixel_vals>= threshold]\n",
    "standardized_pixel_vals = (foreground_pixel_vals - foreground_pixel_vals.mean())/foreground_pixel_vals.std()\n",
    "plt.hist(standardized_pixel_vals, range=(-3,3),bins=6*10)\n",
    "plt.title(\"Pixel intensity distribution (foreground only, standardized)\")\n",
    "plt.show()\n",
    "\n",
    "# print some stats\n",
    "mode = scipy.stats.mode(foreground_pixel_vals)[0][0]\n",
    "print(\"Foreground pixel values mode:\", mode)\n",
    "print(\"Sum of pixel values in the foreground:\", foreground_pixel_vals.sum())\n",
    "print(\"Area of foreground:\", foreground_pixel_vals.shape[0])"
   ]
  },
  {
   "cell_type": "markdown",
   "metadata": {},
   "source": [
    "## Pixel Intensity Stats by Disease"
   ]
  },
  {
   "cell_type": "code",
   "execution_count": 19,
   "metadata": {},
   "outputs": [],
   "source": [
    "# function to gather the three stats from above given a row in the data\n",
    "# much is copied from the exploration above\n",
    "def gather_stats(row):\n",
    "    paths = glob(\"/data/images_*/images/\" + row[\"Image Index\"])\n",
    "    assert(len(paths)==1)\n",
    "    path = paths[0]\n",
    "    img = tf.keras.preprocessing.image.load_img(path, color_mode=\"grayscale\")\n",
    "    img_small = img.copy()\n",
    "    img_small.thumbnail((64,64))\n",
    "\n",
    "    pixel_vals = np.array(list(img_small.getdata())) # flattened form\n",
    "    pixel_vals_2d = pixel_vals.reshape(img_small.width,img_small.height)\n",
    "\n",
    "    threshold = otsu_threshold(pixel_vals)\n",
    "\n",
    "    # show intensity histogram for only \"foreground\" pixels\n",
    "    foreground_pixel_vals = pixel_vals[pixel_vals>= threshold]\n",
    "\n",
    "    mode = scipy.stats.mode(foreground_pixel_vals)[0][0]\n",
    "    foreground_sum = foreground_pixel_vals.sum()\n",
    "    foreground_area = foreground_pixel_vals.shape[0]\n",
    "\n",
    "    return mode, foreground_sum, foreground_area"
   ]
  },
  {
   "cell_type": "code",
   "execution_count": 48,
   "metadata": {},
   "outputs": [],
   "source": [
    "# Take a sample to work with\n",
    "df_sample = df.sample(1000)"
   ]
  },
  {
   "cell_type": "code",
   "execution_count": 49,
   "metadata": {},
   "outputs": [
    {
     "data": {
      "text/html": [
       "<div>\n",
       "<style scoped>\n",
       "    .dataframe tbody tr th:only-of-type {\n",
       "        vertical-align: middle;\n",
       "    }\n",
       "\n",
       "    .dataframe tbody tr th {\n",
       "        vertical-align: top;\n",
       "    }\n",
       "\n",
       "    .dataframe thead th {\n",
       "        text-align: right;\n",
       "    }\n",
       "</style>\n",
       "<table border=\"1\" class=\"dataframe\">\n",
       "  <thead>\n",
       "    <tr style=\"text-align: right;\">\n",
       "      <th></th>\n",
       "      <th>Image Index</th>\n",
       "      <th>Finding Labels</th>\n",
       "      <th>Follow-up #</th>\n",
       "      <th>Patient ID</th>\n",
       "      <th>Patient Age</th>\n",
       "      <th>Patient Gender</th>\n",
       "      <th>View Position</th>\n",
       "      <th>OriginalImage[Width</th>\n",
       "      <th>Height]</th>\n",
       "      <th>OriginalImagePixelSpacing[x</th>\n",
       "      <th>...</th>\n",
       "      <th>No Finding</th>\n",
       "      <th>Hernia</th>\n",
       "      <th>Edema</th>\n",
       "      <th>Pneumonia</th>\n",
       "      <th>Infiltration</th>\n",
       "      <th>Effusion</th>\n",
       "      <th>number of diseases</th>\n",
       "      <th>pixel mode</th>\n",
       "      <th>pixel sum</th>\n",
       "      <th>pixel area</th>\n",
       "    </tr>\n",
       "  </thead>\n",
       "  <tbody>\n",
       "    <tr>\n",
       "      <th>12767</th>\n",
       "      <td>00003354_003.png</td>\n",
       "      <td>No Finding</td>\n",
       "      <td>3</td>\n",
       "      <td>3354</td>\n",
       "      <td>20</td>\n",
       "      <td>F</td>\n",
       "      <td>PA</td>\n",
       "      <td>2980</td>\n",
       "      <td>2576</td>\n",
       "      <td>0.143</td>\n",
       "      <td>...</td>\n",
       "      <td>1</td>\n",
       "      <td>0</td>\n",
       "      <td>0</td>\n",
       "      <td>0</td>\n",
       "      <td>0</td>\n",
       "      <td>0</td>\n",
       "      <td>0</td>\n",
       "      <td>104</td>\n",
       "      <td>251819</td>\n",
       "      <td>1620</td>\n",
       "    </tr>\n",
       "    <tr>\n",
       "      <th>92190</th>\n",
       "      <td>00023026_009.png</td>\n",
       "      <td>Infiltration</td>\n",
       "      <td>9</td>\n",
       "      <td>23026</td>\n",
       "      <td>30</td>\n",
       "      <td>F</td>\n",
       "      <td>AP</td>\n",
       "      <td>3056</td>\n",
       "      <td>2544</td>\n",
       "      <td>0.139</td>\n",
       "      <td>...</td>\n",
       "      <td>0</td>\n",
       "      <td>0</td>\n",
       "      <td>0</td>\n",
       "      <td>0</td>\n",
       "      <td>1</td>\n",
       "      <td>0</td>\n",
       "      <td>1</td>\n",
       "      <td>127</td>\n",
       "      <td>305417</td>\n",
       "      <td>2349</td>\n",
       "    </tr>\n",
       "    <tr>\n",
       "      <th>51176</th>\n",
       "      <td>00012931_018.png</td>\n",
       "      <td>No Finding</td>\n",
       "      <td>18</td>\n",
       "      <td>12931</td>\n",
       "      <td>47</td>\n",
       "      <td>F</td>\n",
       "      <td>AP</td>\n",
       "      <td>2500</td>\n",
       "      <td>2048</td>\n",
       "      <td>0.168</td>\n",
       "      <td>...</td>\n",
       "      <td>1</td>\n",
       "      <td>0</td>\n",
       "      <td>0</td>\n",
       "      <td>0</td>\n",
       "      <td>0</td>\n",
       "      <td>0</td>\n",
       "      <td>0</td>\n",
       "      <td>157</td>\n",
       "      <td>413842</td>\n",
       "      <td>3122</td>\n",
       "    </tr>\n",
       "    <tr>\n",
       "      <th>10298</th>\n",
       "      <td>00002670_000.png</td>\n",
       "      <td>No Finding</td>\n",
       "      <td>0</td>\n",
       "      <td>2670</td>\n",
       "      <td>59</td>\n",
       "      <td>F</td>\n",
       "      <td>PA</td>\n",
       "      <td>2048</td>\n",
       "      <td>2500</td>\n",
       "      <td>0.171</td>\n",
       "      <td>...</td>\n",
       "      <td>1</td>\n",
       "      <td>0</td>\n",
       "      <td>0</td>\n",
       "      <td>0</td>\n",
       "      <td>0</td>\n",
       "      <td>0</td>\n",
       "      <td>0</td>\n",
       "      <td>191</td>\n",
       "      <td>588264</td>\n",
       "      <td>3367</td>\n",
       "    </tr>\n",
       "    <tr>\n",
       "      <th>43748</th>\n",
       "      <td>00011269_005.png</td>\n",
       "      <td>Consolidation</td>\n",
       "      <td>5</td>\n",
       "      <td>11269</td>\n",
       "      <td>41</td>\n",
       "      <td>M</td>\n",
       "      <td>PA</td>\n",
       "      <td>2992</td>\n",
       "      <td>2991</td>\n",
       "      <td>0.143</td>\n",
       "      <td>...</td>\n",
       "      <td>0</td>\n",
       "      <td>0</td>\n",
       "      <td>0</td>\n",
       "      <td>0</td>\n",
       "      <td>0</td>\n",
       "      <td>0</td>\n",
       "      <td>1</td>\n",
       "      <td>170</td>\n",
       "      <td>302620</td>\n",
       "      <td>2146</td>\n",
       "    </tr>\n",
       "  </tbody>\n",
       "</table>\n",
       "<p>5 rows × 30 columns</p>\n",
       "</div>"
      ],
      "text/plain": [
       "            Image Index Finding Labels  Follow-up #  Patient ID  Patient Age  \\\n",
       "12767  00003354_003.png     No Finding            3        3354           20   \n",
       "92190  00023026_009.png   Infiltration            9       23026           30   \n",
       "51176  00012931_018.png     No Finding           18       12931           47   \n",
       "10298  00002670_000.png     No Finding            0        2670           59   \n",
       "43748  00011269_005.png  Consolidation            5       11269           41   \n",
       "\n",
       "      Patient Gender View Position  OriginalImage[Width  Height]  \\\n",
       "12767              F            PA                 2980     2576   \n",
       "92190              F            AP                 3056     2544   \n",
       "51176              F            AP                 2500     2048   \n",
       "10298              F            PA                 2048     2500   \n",
       "43748              M            PA                 2992     2991   \n",
       "\n",
       "       OriginalImagePixelSpacing[x  ...  No Finding  Hernia  Edema  Pneumonia  \\\n",
       "12767                        0.143  ...           1       0      0          0   \n",
       "92190                        0.139  ...           0       0      0          0   \n",
       "51176                        0.168  ...           1       0      0          0   \n",
       "10298                        0.171  ...           1       0      0          0   \n",
       "43748                        0.143  ...           0       0      0          0   \n",
       "\n",
       "       Infiltration  Effusion  number of diseases  pixel mode  pixel sum  \\\n",
       "12767             0         0                   0         104     251819   \n",
       "92190             1         0                   1         127     305417   \n",
       "51176             0         0                   0         157     413842   \n",
       "10298             0         0                   0         191     588264   \n",
       "43748             0         0                   1         170     302620   \n",
       "\n",
       "       pixel area  \n",
       "12767        1620  \n",
       "92190        2349  \n",
       "51176        3122  \n",
       "10298        3367  \n",
       "43748        2146  \n",
       "\n",
       "[5 rows x 30 columns]"
      ]
     },
     "execution_count": 49,
     "metadata": {},
     "output_type": "execute_result"
    }
   ],
   "source": [
    "# This will take a little while to run. Decrease the number of samples in the cell above if you want.\n",
    "pixel_intensity_stats = df_sample.apply(gather_stats, axis=1)\n",
    "df_sample[\"pixel mode\"] = pixel_intensity_stats.apply(lambda x : x[0])\n",
    "df_sample[\"pixel sum\"] = pixel_intensity_stats.apply(lambda x : x[1])\n",
    "df_sample[\"pixel area\"] = pixel_intensity_stats.apply(lambda x : x[2])\n",
    "df_sample.head()"
   ]
  },
  {
   "cell_type": "markdown",
   "metadata": {},
   "source": [
    "Let's see if any of the pixel stats look like they can be related to the presence of pneuomonia..."
   ]
  },
  {
   "cell_type": "code",
   "execution_count": 50,
   "metadata": {},
   "outputs": [
    {
     "data": {
      "image/png": "[encoded data removed]",
      "text/plain": [
       "<Figure size 432x288 with 1 Axes>"
      ]
     },
     "metadata": {
      "needs_background": "light"
     },
     "output_type": "display_data"
    },
    {
     "data": {
      "image/png": "[encoded data removed]",
      "text/plain": [
       "<Figure size 432x288 with 1 Axes>"
      ]
     },
     "metadata": {
      "needs_background": "light"
     },
     "output_type": "display_data"
    }
   ],
   "source": [
    "pneumonia_mask = df_sample['Pneumonia']==1\n",
    "plt.scatter(df_sample['pixel mode'][~pneumonia_mask], df_sample['pixel area'][~pneumonia_mask], label='no pneum')\n",
    "plt.scatter(df_sample['pixel mode'][pneumonia_mask], df_sample['pixel area'][pneumonia_mask], label='pneum')\n",
    "plt.xlabel('pixel mode')\n",
    "plt.ylabel('pixel area')\n",
    "plt.legend()\n",
    "plt.show()\n",
    "\n",
    "plt.scatter(df_sample['pixel mode'][~pneumonia_mask], df_sample['pixel sum'][~pneumonia_mask], label='no pneum')\n",
    "plt.scatter(df_sample['pixel mode'][pneumonia_mask], df_sample['pixel sum'][pneumonia_mask], label='pneum')\n",
    "plt.xlabel('pixel mode')\n",
    "plt.ylabel('pixel sum')\n",
    "plt.legend()\n",
    "plt.show()"
   ]
  },
  {
   "cell_type": "markdown",
   "metadata": {},
   "source": [
    "At least by eye, there does not seem to be any structure to this data that can select the pneumonia cases. The pixel intensity stats I came up with are not helpful."
   ]
  }
 ],
 "metadata": {
  "kernelspec": {
   "display_name": "Python 3",
   "language": "python",
   "name": "python3"
  },
  "language_info": {
   "codemirror_mode": {
    "name": "ipython",
    "version": 3
   },
   "file_extension": ".py",
   "mimetype": "text/x-python",
   "name": "python",
   "nbconvert_exporter": "python",
   "pygments_lexer": "ipython3",
   "version": "3.7.6"
  }
 },
 "nbformat": 4,
 "nbformat_minor": 2
}
